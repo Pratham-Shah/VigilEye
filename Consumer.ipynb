{
 "cells": [
  {
   "cell_type": "code",
   "execution_count": null,
   "id": "499066ac-3c93-42d1-a74c-eec20f1fd37c",
   "metadata": {},
   "outputs": [],
   "source": [
    "import io\n",
    "from PIL import Image\n",
    "import torch\n",
    "from torchvision import transforms\n",
    "import matplotlib.pyplot as plt\n",
    "from kafka import KafkaConsumer"
   ]
  },
  {
   "cell_type": "code",
   "execution_count": null,
   "id": "4fe9e6e0-a9a3-49fc-9a19-83868bebb793",
   "metadata": {},
   "outputs": [],
   "source": [
    "model_path = '/home/jovyan/UCF_Crime.pth'"
   ]
  },
  {
   "cell_type": "code",
   "execution_count": null,
   "id": "7be21c05-0831-4f13-a2e8-cf461ff65e4c",
   "metadata": {},
   "outputs": [],
   "source": [
    "# Kafka consumer setup\n",
    "consumer = KafkaConsumer(\n",
    "    'frame_topic',\n",
    "    bootstrap_servers='localhost:9092',\n",
    "    auto_offset_reset='earliest'\n",
    ")"
   ]
  },
  {
   "cell_type": "code",
   "execution_count": null,
   "id": "08772ff1-8dd5-4ae4-bd5d-56eb8b388f40",
   "metadata": {},
   "outputs": [],
   "source": [
    "import torch\n",
    "import torch.nn as nn\n",
    "import torchvision.transforms as transforms\n",
    "from PIL import Image\n",
    "import torchvision.models as models\n",
    "import torch.nn.functional as F  # Add this line\n",
    "\n",
    "# Define your neural network architecture\n",
    "class FeatureExtractor(nn.Module):\n",
    "    def __init__(self):\n",
    "        super(FeatureExtractor, self).__init__()\n",
    "        # Pre-trained DenseNet121 without the final fully connected layers\n",
    "        self.densenet = models.densenet121(pretrained=True)\n",
    "        self.densenet = nn.Sequential(*list(self.densenet.children())[:-1])  # Remove last layer\n",
    "\n",
    "    def forward(self, x):\n",
    "        # Use the pre-trained DenseNet121 model\n",
    "        return self.densenet(x)\n",
    "\n",
    "class Classifier(nn.Module):\n",
    "    def __init__(self, num_classes):\n",
    "        super(Classifier, self).__init__()\n",
    "        self.avg_pool = nn.AdaptiveAvgPool2d((1, 1))\n",
    "        self.fc1 = nn.Linear(1024, 256)\n",
    "        self.fc2 = nn.Linear(256, 1024)\n",
    "        self.fc3 = nn.Linear(1024, 512)\n",
    "        self.fc4 = nn.Linear(512, num_classes)\n",
    "        self.dropout = nn.Dropout(0.5)\n",
    "\n",
    "    def forward(self, x):\n",
    "        x = self.avg_pool(x)\n",
    "        x = torch.flatten(x, 1)\n",
    "        x = F.relu(self.fc1(x))\n",
    "        x = self.dropout(x)\n",
    "        x = F.relu(self.fc2(x))\n",
    "        x = self.dropout(x)\n",
    "        x = F.relu(self.fc3(x))\n",
    "        x = self.dropout(x)\n",
    "        x = self.fc4(x)\n",
    "        return x\n",
    "\n",
    "class FinalModel(nn.Module):\n",
    "    def __init__(self, num_classes):\n",
    "        super(FinalModel, self).__init__()\n",
    "        self.feature_extractor = FeatureExtractor()\n",
    "        self.classifier = Classifier(num_classes)\n",
    "\n",
    "    def forward(self, x):\n",
    "        features = self.feature_extractor(x)\n",
    "        output = self.classifier(features)\n",
    "        return output\n",
    "\n",
    "# Define and compile the model\n",
    "model = FinalModel(15)\n",
    "\n",
    "# Load the weights from the .pth file\n",
    "model_weights_path = '/home/jovyan/UCF_Crime.pth'\n",
    "model.load_state_dict(torch.load(model_weights_path, map_location=torch.device('cpu')))\n",
    "model.eval()  # Set the model to evaluation mode"
   ]
  },
  {
   "cell_type": "code",
   "execution_count": null,
   "id": "02e852f9-fe9a-43cf-a306-ce1afa5166ec",
   "metadata": {},
   "outputs": [],
   "source": [
    "# Define a list to store the predicted class indices\n",
    "predicted_classes = []"
   ]
  },
  {
   "cell_type": "code",
   "execution_count": null,
   "id": "bb77fe13-4d0e-4025-a0be-eef004e5dcc5",
   "metadata": {},
   "outputs": [],
   "source": [
    "# Define the class labels\n",
    "CLASS_LABELS = ['Abuse','Arrest','Arson','Assault','Normals','Explosion','Fighting',\n",
    "                'Burglary', 'Protest', 'RoadAccidents','Robbery','Shooting','Shoplifting',\n",
    "                'Stealing','Vandalism']"
   ]
  },
  {
   "cell_type": "code",
   "execution_count": null,
   "id": "1ede7a27-b1d8-4cc3-bd17-4eebfd2c98ff",
   "metadata": {},
   "outputs": [],
   "source": [
    "# Define transformation for image preprocessing\n",
    "transform = transforms.Compose([\n",
    "transforms.Resize((64, 64)),  # Resize image to fit the input size of the model\n",
    "        transforms.ToTensor(),  # Convert PIL image to tensor\n",
    "        transforms.Normalize(mean=[0.485, 0.456, 0.406], std=[0.229, 0.224, 0.225]),  # Normalize image\n",
    "    ])"
   ]
  },
  {
   "cell_type": "code",
   "execution_count": null,
   "id": "e2de0591-8b45-4c72-a549-55e82c55f66c",
   "metadata": {},
   "outputs": [],
   "source": [
    "# Kafka consumer loop\n",
    "for message in consumer:\n",
    "    print(\"\\nMessage Received from Kafka Producer\")\n",
    "    try:\n",
    "        # Preprocess image\n",
    "        image_stream = io.BytesIO(message.value)\n",
    "        image = Image.open(image_stream).convert('RGB')\n",
    "        processed_image = transform(image).unsqueeze(0)  # Add batch dimension\n",
    "        \n",
    "        # Convert the processed image tensor to numpy array\n",
    "        image_np = processed_image.squeeze(0).permute(1, 2, 0).numpy()\n",
    "\n",
    "        # Display the image\n",
    "        plt.imshow(image)\n",
    "        plt.axis('off')\n",
    "        plt.show()\n",
    "            \n",
    "        # Perform inference\n",
    "        with torch.no_grad():\n",
    "            output = model(processed_image)\n",
    "            probabilities = torch.softmax(output, dim=1)\n",
    "            predicted_class = torch.argmax(probabilities, dim=1).item()\n",
    "\n",
    "            if CLASS_LABELS:\n",
    "                print(\"Predicted Class Label:\", CLASS_LABELS[predicted_class])\n",
    "\n",
    "        # Send prediction back to Kafka or do further processing\n",
    "        print(\"Predicted Class:\", predicted_class)\n",
    "\n",
    "    except Exception as e:\n",
    "        print(\"Failed to process or display image:\", e)"
   ]
  },
  {
   "cell_type": "code",
   "execution_count": null,
   "id": "4d9471c9-fb77-4b10-9da3-5e4757e4859e",
   "metadata": {},
   "outputs": [],
   "source": []
  }
 ],
 "metadata": {
  "kernelspec": {
   "display_name": "Python [conda env:bigdata]",
   "language": "python",
   "name": "conda-env-bigdata-py"
  },
  "language_info": {
   "codemirror_mode": {
    "name": "ipython",
    "version": 3
   },
   "file_extension": ".py",
   "mimetype": "text/x-python",
   "name": "python",
   "nbconvert_exporter": "python",
   "pygments_lexer": "ipython3",
   "version": "3.10.13"
  }
 },
 "nbformat": 4,
 "nbformat_minor": 5
}
